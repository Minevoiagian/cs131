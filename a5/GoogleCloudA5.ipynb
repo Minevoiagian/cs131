{
  "cells": [
    {
      "cell_type": "code",
      "execution_count": 1,
      "id": "82bd2b57",
      "metadata": {
        "id": "82bd2b57",
        "vscode": {
          "languageId": "plaintext"
        }
      },
      "outputs": [],
      "source": [
        "from pyspark.sql import SparkSession\n",
        "filePath = \"student_habits_performance.csv\"\n",
        "#make the spark session and import the file"
      ]
    },
    {
      "cell_type": "code",
      "execution_count": 2,
      "id": "368ff544",
      "metadata": {
        "id": "368ff544",
        "vscode": {
          "languageId": "plaintext"
        },
        "colab": {
          "base_uri": "https://localhost:8080/"
        },
        "outputId": "228d650e-3859-47b4-dc4e-2ee68ba7f913"
      },
      "outputs": [
        {
          "output_type": "stream",
          "name": "stdout",
          "text": [
            "3.5.1\n"
          ]
        }
      ],
      "source": [
        "spark = SparkSession.builder.appName(\"TestApp\").getOrCreate()\n",
        "print(spark.sparkContext.version)"
      ]
    },
    {
      "cell_type": "code",
      "source": [
        "taxiDF = spark.read.csv(filePath, header=True,inferSchema = True)\n",
        "\n",
        "from pyspark.ml.feature import StringIndexer\n",
        "\n",
        "cat_attribs =         [\"gender\",\n",
        "                       \"part_time_job\",\n",
        "                       \"diet_quality\",\n",
        "                       \"parental_education_level\",\n",
        "                       \"internet_quality\",\n",
        "                       \"extracurricular_participation\"]\n",
        "cat_attribs_encoded =  [\"gender_encoded\",\n",
        "                       \"part_time_job_encoded\",\n",
        "                        \"diet_quality_encoded\",\n",
        "                        \"parental_education_level_encoded\",\n",
        "                        \"internet_quality_encoded\",\n",
        "                        \"extracurricular_participation_encoded\"]\n",
        "indexer = StringIndexer(inputCols=cat_attribs,\n",
        "                           outputCols=cat_attribs_encoded)\n"
      ],
      "metadata": {
        "id": "KCksn3hYpLjv"
      },
      "id": "KCksn3hYpLjv",
      "execution_count": 3,
      "outputs": []
    },
    {
      "cell_type": "code",
      "execution_count": 4,
      "id": "c8129594",
      "metadata": {
        "colab": {
          "base_uri": "https://localhost:8080/"
        },
        "id": "c8129594",
        "outputId": "00ce1268-8422-4c7c-fb5c-9a908932165e",
        "vscode": {
          "languageId": "plaintext"
        }
      },
      "outputs": [
        {
          "output_type": "stream",
          "name": "stdout",
          "text": [
            "+---+-------------------+------------------+-------------+---------------------+-----------+------------------+--------------------+----------+--------------+---------------------+--------------------+--------------------------------+------------------------+-------------------------------------+\n",
            "|age|study_hours_per_day|social_media_hours|netflix_hours|attendance_percentage|sleep_hours|exercise_frequency|mental_health_rating|exam_score|gender_encoded|part_time_job_encoded|diet_quality_encoded|parental_education_level_encoded|internet_quality_encoded|extracurricular_participation_encoded|\n",
            "+---+-------------------+------------------+-------------+---------------------+-----------+------------------+--------------------+----------+--------------+---------------------+--------------------+--------------------------------+------------------------+-------------------------------------+\n",
            "| 23|                0.0|               1.2|          1.1|                 85.0|        8.0|                 6|                   8|      56.2|           0.0|                  0.0|                 0.0|                             2.0|                     1.0|                                  1.0|\n",
            "| 20|                6.9|               2.8|          2.3|                 97.3|        4.6|                 6|                   8|     100.0|           0.0|                  0.0|                 1.0|                             0.0|                     1.0|                                  0.0|\n",
            "| 21|                1.4|               3.1|          1.3|                 94.8|        8.0|                 1|                   1|      34.3|           1.0|                  0.0|                 2.0|                             0.0|                     2.0|                                  0.0|\n",
            "| 23|                1.0|               3.9|          1.0|                 71.0|        9.2|                 4|                   1|      26.8|           0.0|                  0.0|                 2.0|                             2.0|                     0.0|                                  1.0|\n",
            "+---+-------------------+------------------+-------------+---------------------+-----------+------------------+--------------------+----------+--------------+---------------------+--------------------+--------------------------------+------------------------+-------------------------------------+\n",
            "only showing top 4 rows\n",
            "\n",
            "+---+-------------------+------------------+-------------+---------------------+-----------+------------------+--------------------+----------+--------------+---------------------+--------------------+--------------------------------+------------------------+-------------------------------------+\n",
            "|age|study_hours_per_day|social_media_hours|netflix_hours|attendance_percentage|sleep_hours|exercise_frequency|mental_health_rating|exam_score|gender_encoded|part_time_job_encoded|diet_quality_encoded|parental_education_level_encoded|internet_quality_encoded|extracurricular_participation_encoded|\n",
            "+---+-------------------+------------------+-------------+---------------------+-----------+------------------+--------------------+----------+--------------+---------------------+--------------------+--------------------------------+------------------------+-------------------------------------+\n",
            "| 17|                0.0|               2.6|          1.6|                 82.4|        7.4|                 5|                   3|      32.9|           1.0|                  0.0|                 1.0|                             0.0|                     1.0|                                  0.0|\n",
            "| 17|                0.0|               4.6|          1.2|                 96.2|        6.1|                 6|                   7|      42.0|           0.0|                  0.0|                 2.0|                             1.0|                     1.0|                                  0.0|\n",
            "| 17|                0.7|               3.2|          2.4|                 95.9|        8.3|                 1|                  10|      50.3|           0.0|                  0.0|                 1.0|                             2.0|                     1.0|                                  1.0|\n",
            "+---+-------------------+------------------+-------------+---------------------+-----------+------------------+--------------------+----------+--------------+---------------------+--------------------+--------------------------------+------------------------+-------------------------------------+\n",
            "only showing top 3 rows\n",
            "\n"
          ]
        }
      ],
      "source": [
        "#read the dataset, and then get the rows, debug as well to make sure things work\n",
        "#of note, student_id was dropped since that's pretty irrelevant\n",
        "taxiDF = taxiDF.drop('student_ID')\n",
        "indexerModel = indexer.fit(taxiDF)\n",
        "indexed_df = indexerModel.transform(taxiDF)\n",
        "indexed_df = indexed_df.drop(\"gender\",\n",
        "                       \"part_time_job\",\n",
        "                       \"diet_quality\",\n",
        "                       \"parental_education_level\",\n",
        "                       \"internet_quality\",\n",
        "                       \"extracurricular_participation\")\n",
        "\n",
        "indexed_df.show(4)\n",
        "# print(\"Original top 5 rows\")\n",
        "#taxiDF.select(\"age\",\"gender\",\"study_hours_per_day\",\"social_media_hours\",\"netflix_hours\",\"part_time_job\",\"attendance_percentage\",\"sleep_hours\",\"diet_quality\",\"exercise_frequency\",\"parental_education_level\",\"internet_quality\",\"mental_health_rating\",\"extracurricular_participation\",\"exam_score\").show(5)\n",
        "#split the dataset\n",
        "trainDF, testDF = indexed_df.randomSplit([0.8,0.2], seed=42)\n",
        "trainDF.show(3)\n",
        "# type(trainDF)"
      ]
    },
    {
      "cell_type": "code",
      "execution_count": 5,
      "id": "9ffa6199",
      "metadata": {
        "id": "9ffa6199",
        "vscode": {
          "languageId": "plaintext"
        }
      },
      "outputs": [],
      "source": [
        "#transformer\n",
        "from pyspark.ml.feature import VectorAssembler\n",
        "vecAssembler = VectorAssembler(inputCols=[\"age\",\"gender_encoded\",\"study_hours_per_day\",\"social_media_hours\",\"netflix_hours\",\"part_time_job_encoded\",\"attendance_percentage\",\"sleep_hours\",\"diet_quality_encoded\",\"exercise_frequency\",\"parental_education_level_encoded\",\"internet_quality_encoded\",\"mental_health_rating\",\"extracurricular_participation_encoded\"], outputCol=\"features\")\n",
        "\n",
        "vecTrainDF = vecAssembler.transform(trainDF)"
      ]
    },
    {
      "cell_type": "code",
      "execution_count": 6,
      "id": "4c7cf446",
      "metadata": {
        "id": "4c7cf446",
        "vscode": {
          "languageId": "plaintext"
        }
      },
      "outputs": [],
      "source": [
        "#make the decision tree model\n",
        "from pyspark.ml.regression import DecisionTreeRegressor\n",
        "dt = DecisionTreeRegressor(featuresCol=\"features\",labelCol=\"exam_score\")"
      ]
    },
    {
      "cell_type": "code",
      "execution_count": 7,
      "id": "42aa00d1",
      "metadata": {
        "id": "42aa00d1",
        "vscode": {
          "languageId": "plaintext"
        }
      },
      "outputs": [],
      "source": [
        "#train the model\n",
        "from pyspark.ml import Pipeline\n",
        "pipeline = Pipeline (stages=[vecAssembler,dt])\n",
        "pipelineModel = pipeline.fit(trainDF)"
      ]
    },
    {
      "cell_type": "code",
      "execution_count": 8,
      "id": "63fe2d15",
      "metadata": {
        "id": "63fe2d15",
        "vscode": {
          "languageId": "plaintext"
        },
        "colab": {
          "base_uri": "https://localhost:8080/"
        },
        "outputId": "b482dc99-ce48-4813-b47a-60d8c0d3e852"
      },
      "outputs": [
        {
          "output_type": "stream",
          "name": "stdout",
          "text": [
            "Prediction 5 rows\n",
            "+---+-------------------+------------------+-------------+---------------------+-----------+------------------+--------------------+----------+--------------+---------------------+--------------------+--------------------------------+------------------------+-------------------------------------+--------------------+------------------+\n",
            "|age|study_hours_per_day|social_media_hours|netflix_hours|attendance_percentage|sleep_hours|exercise_frequency|mental_health_rating|exam_score|gender_encoded|part_time_job_encoded|diet_quality_encoded|parental_education_level_encoded|internet_quality_encoded|extracurricular_participation_encoded|            features|        prediction|\n",
            "+---+-------------------+------------------+-------------+---------------------+-----------+------------------+--------------------+----------+--------------+---------------------+--------------------+--------------------------------+------------------------+-------------------------------------+--------------------+------------------+\n",
            "| 17|                0.5|               3.3|          2.3|                 90.0|        6.8|                 4|                   5|      39.0|           1.0|                  0.0|                 0.0|                             0.0|                     0.0|                                  0.0|[17.0,1.0,0.5,3.3...|30.380000000000003|\n",
            "| 17|                1.4|               0.9|          2.6|                 83.0|        4.4|                 3|                   8|      51.0|           1.0|                  1.0|                 2.0|                             1.0|                     0.0|                                  0.0|[17.0,1.0,1.4,0.9...|              32.6|\n",
            "| 17|                1.5|               2.4|          2.0|                 85.3|        5.6|                 3|                   9|      60.3|           1.0|                  1.0|                 2.0|                             0.0|                     1.0|                                  0.0|[17.0,1.0,1.5,2.4...| 54.81666666666666|\n",
            "| 17|                1.9|               4.0|          3.0|                 98.6|        6.2|                 0|                   7|      35.7|           1.0|                  0.0|                 2.0|                             1.0|                     1.0|                                  1.0|[17.0,1.0,1.9,4.0...| 52.78181818181818|\n",
            "| 17|                2.2|               2.4|          2.3|                 94.3|        6.1|                 5|                   6|      62.7|           0.0|                  1.0|                 2.0|                             1.0|                     1.0|                                  0.0|[17.0,0.0,2.2,2.4...| 63.38666666666666|\n",
            "+---+-------------------+------------------+-------------+---------------------+-----------+------------------+--------------------+----------+--------------+---------------------+--------------------+--------------------------------+------------------------+-------------------------------------+--------------------+------------------+\n",
            "only showing top 5 rows\n",
            "\n"
          ]
        }
      ],
      "source": [
        "#test dataset stuff\n",
        "predDF = pipelineModel.transform(testDF)\n",
        "print(\"Prediction 5 rows\")\n",
        "predDF.show(5)"
      ]
    },
    {
      "cell_type": "code",
      "execution_count": 9,
      "id": "11b6f1b3",
      "metadata": {
        "id": "11b6f1b3",
        "vscode": {
          "languageId": "plaintext"
        },
        "colab": {
          "base_uri": "https://localhost:8080/"
        },
        "outputId": "270da33a-dd7f-45a1-edbb-b8661c6c6e72"
      },
      "outputs": [
        {
          "output_type": "stream",
          "name": "stdout",
          "text": [
            "RMSE:  8.442631143196058\n"
          ]
        }
      ],
      "source": [
        "#check RMSE\n",
        "from pyspark.ml.evaluation import RegressionEvaluator\n",
        "regressionEvaluator = RegressionEvaluator(\n",
        "    predictionCol=\"prediction\",\n",
        "    labelCol=\"exam_score\",\n",
        "    metricName=\"rmse\"\n",
        ")\n",
        "rmse = regressionEvaluator.evaluate(predDF)\n",
        "print(\"RMSE: \",rmse)"
      ]
    },
    {
      "cell_type": "code",
      "source": [
        "for col in trainDF.columns:\n",
        "    tempCorr = trainDF.corr(col,\"exam_score\")\n",
        "    print(f\"Correlation between {col} and exam_score: {tempCorr:.5f}\".format(col,tempCorr))\n",
        "    print()"
      ],
      "metadata": {
        "colab": {
          "base_uri": "https://localhost:8080/"
        },
        "id": "qPjAJVeJrVFB",
        "outputId": "57866909-f138-4786-84b3-fae3f4bb6058"
      },
      "id": "qPjAJVeJrVFB",
      "execution_count": 10,
      "outputs": [
        {
          "output_type": "stream",
          "name": "stdout",
          "text": [
            "Correlation between age and exam_score: -0.01503\n",
            "\n",
            "Correlation between study_hours_per_day and exam_score: 0.81893\n",
            "\n",
            "Correlation between social_media_hours and exam_score: -0.16536\n",
            "\n",
            "Correlation between netflix_hours and exam_score: -0.18105\n",
            "\n",
            "Correlation between attendance_percentage and exam_score: 0.11366\n",
            "\n",
            "Correlation between sleep_hours and exam_score: 0.11130\n",
            "\n",
            "Correlation between exercise_frequency and exam_score: 0.16545\n",
            "\n",
            "Correlation between mental_health_rating and exam_score: 0.32407\n",
            "\n",
            "Correlation between exam_score and exam_score: 1.00000\n",
            "\n",
            "Correlation between gender_encoded and exam_score: -0.00120\n",
            "\n",
            "Correlation between part_time_job_encoded and exam_score: -0.01967\n",
            "\n",
            "Correlation between diet_quality_encoded and exam_score: -0.04667\n",
            "\n",
            "Correlation between parental_education_level_encoded and exam_score: 0.00921\n",
            "\n",
            "Correlation between internet_quality_encoded and exam_score: 0.04471\n",
            "\n",
            "Correlation between extracurricular_participation_encoded and exam_score: 0.02282\n",
            "\n"
          ]
        }
      ]
    },
    {
      "cell_type": "code",
      "execution_count": 11,
      "id": "998fabbe",
      "metadata": {
        "id": "998fabbe",
        "vscode": {
          "languageId": "plaintext"
        }
      },
      "outputs": [],
      "source": [
        "spark.stop()"
      ]
    }
  ],
  "metadata": {
    "colab": {
      "provenance": []
    },
    "kernelspec": {
      "display_name": "Python 3",
      "name": "python3"
    },
    "language_info": {
      "name": "python"
    }
  },
  "nbformat": 4,
  "nbformat_minor": 5
}